{
 "cells": [
  {
   "cell_type": "code",
   "execution_count": null,
   "metadata": {},
   "outputs": [],
   "source": [
    "import pandas as pd\n",
    "import numpy as np\n",
    "from collections import Counter\n",
    "\n",
    "import os\n",
    "import sys\n",
    "sys.path.append(os.path.abspath(os.path.join('..')))"
   ]
  },
  {
   "cell_type": "markdown",
   "metadata": {},
   "source": [
    "## Data Set Information\n",
    "This is a transnational data set which contains all the transactions occurring between 01/12/2010 and 09/12/2011 for a UK-based and registered non-store online retail. The company mainly sells unique all-occasion gifts. Many customers of the company are wholesalers.\n",
    "\n",
    "---\n",
    "\n",
    "## Attribute Information\n",
    "- **InvoiceNo**: Invoice number. Nominal, a 6-digit integral number uniquely assigned to each transaction. If this code starts with the letter 'C', it indicates a cancellation.\n",
    "- **StockCode**: Product (item) code. Nominal, a 5-digit integral number uniquely assigned to each distinct product.\n",
    "- **Description**: Product (item) name. Nominal.\n",
    "- **Quantity**: The quantity of each product (item) per transaction. Numeric.\n",
    "- **InvoiceDate**: Invoice date and time. Numeric, representing the day and time when each transaction was generated.\n",
    "- **UnitPrice**: Unit price. Numeric, representing the product price per unit in sterling.\n",
    "- **CustomerID**: Customer number. Nominal, a 5-digit integral number uniquely assigned to each customer.\n",
    "- **Country**: Country name. Nominal, representing the name of the country where each customer resides.\n"
   ]
  },
  {
   "cell_type": "code",
   "execution_count": null,
   "metadata": {},
   "outputs": [],
   "source": [
    "raw_data = pd.read_csv('../data/retail.csv', encoding='ISO-8859-1')\n",
    "display(raw_data.head(10))"
   ]
  },
  {
   "cell_type": "markdown",
   "metadata": {},
   "source": [
    "### Transactions"
   ]
  },
  {
   "cell_type": "code",
   "execution_count": null,
   "metadata": {},
   "outputs": [],
   "source": [
    "transactions = raw_data.copy()\n",
    "\n",
    "transactions = transactions.rename(columns={\n",
    "    'InvoiceNo': 'invoice_id',\n",
    "    'StockCode': 'item_id',\n",
    "    'Description': 'item_description',\n",
    "    'Quantity': 'quantity_amount',\n",
    "    'InvoiceDate': 'event_timestamp_invoiced_at',\n",
    "    'UnitPrice': 'unit_price_eur',\n",
    "    'CustomerID': 'customer_id',\n",
    "    'Country': 'country_name'\n",
    "})\n",
    "\n",
    "transactions['invoice_id'] = transactions['invoice_id'].astype(str)\n",
    "transactions['item_id'] = transactions['item_id'].astype(str)\n",
    "transactions['item_description'] = transactions['item_description'].astype(str)\n",
    "transactions['quantity_amount'] = transactions['quantity_amount'].astype(int)\n",
    "transactions['event_timestamp_invoiced_at'] = pd.to_datetime(transactions['event_timestamp_invoiced_at'])\n",
    "transactions['unit_price_eur'] = transactions['unit_price_eur'].astype(float)\n",
    "transactions['customer_id'] = transactions['customer_id'].astype('Int64')\n",
    "transactions['country_name'] = transactions['country_name'].astype(str)\n",
    "transactions.index.name = 'transaction_id'\n",
    "transactions.reset_index(inplace=True)\n",
    "transactions['transaction_id'] = transactions['transaction_id'].astype('Int64')\n",
    "\n",
    "transactions.head(10)\n"
   ]
  },
  {
   "cell_type": "code",
   "execution_count": null,
   "metadata": {},
   "outputs": [],
   "source": [
    "transactions['is_return'] = transactions['quantity_amount'] < 0"
   ]
  },
  {
   "cell_type": "markdown",
   "metadata": {},
   "source": [
    "### Items"
   ]
  },
  {
   "cell_type": "code",
   "execution_count": null,
   "metadata": {},
   "outputs": [],
   "source": [
    "items = transactions.groupby(['item_id', 'item_description']).count()[[]].reset_index()\n",
    "items.sample(20)"
   ]
  },
  {
   "cell_type": "code",
   "execution_count": null,
   "metadata": {},
   "outputs": [],
   "source": [
    "items['is_operational_item'] = (items['item_id'].str.len() < 5) | (items['item_id'].str.contains('gift', case=False))\n",
    "items['item_family_id'] = items['item_id'].str.extract(r'^(\\d+)', expand=False)\n",
    "items['item_variant'] = items['item_id'].str.extract(r'(\\D+)$', expand=False).fillna('')\n",
    "items['item_variant'] = np.where(items['item_id'] == items['item_family_id'],  np.nan, items['item_variant'])\n",
    "\n",
    "items.head()"
   ]
  },
  {
   "cell_type": "markdown",
   "metadata": {},
   "source": [
    "#### Set items additional info flags"
   ]
  },
  {
   "cell_type": "code",
   "execution_count": null,
   "metadata": {},
   "outputs": [],
   "source": [
    "selected_items = items[items['is_operational_item'] == False]\n",
    "\n",
    "selected_items['is_all_uppercase'] = selected_items['item_description'].str.isupper()\n",
    "selected_items['description_len'] = selected_items['item_description'].str.len()\n",
    "selected_items = selected_items.sort_values(by=['item_id', 'description_len'], ascending=[True, False])\n",
    "selected_items['description_order'] = selected_items.groupby('item_id').cumcount() + 1\n",
    "\n",
    "selected_items.head()"
   ]
  },
  {
   "cell_type": "code",
   "execution_count": null,
   "metadata": {},
   "outputs": [],
   "source": [
    "weird_items = selected_items[((selected_items['description_order'] > 1) & (selected_items['description_len'] < 13)) | ~selected_items['is_all_uppercase']]\n",
    "description_list = weird_items['item_description'].drop_duplicates().tolist()\n",
    "print(description_list)\n",
    "\n",
    "is_unknown_item = []\n",
    "is_error_item = []\n",
    "is_special_item = []\n",
    "is_modification_item = []\n",
    "\n",
    "for description in description_list:\n",
    "    description_lower = description.lower()\n",
    "    if any(word in description_lower for word in [\n",
    "        'check', 'damage', 'wet', 'lost', 'found', 'error', 'wrong', 'faulty', 'mouldy', 'smashed', 'broken', 'crush', 'crack', 'unsaleable', 'missing', 'throw away'\n",
    "    ]):\n",
    "        is_error_item.append(description)\n",
    "    elif any(word in description_lower for word in [\n",
    "        'dotcom', 'amazon', 'fba', 'ebay', 'john lewis', 'showroom', 'voucher', 'cordial jug', 'website'\n",
    "    ]):\n",
    "        is_special_item.append(description)\n",
    "    elif any(word in description_lower for word in [\n",
    "        'adjust', 'sample', 'sold as', 'mailout', 'allocate', 'temp', 'credit', 'sale', 're-adjustment', 'label mix up'\n",
    "    ]):\n",
    "        is_modification_item.append(description)\n",
    "\n",
    "\n",
    "is_unknown_item = ['?','??','???','Incorrect stock entry.',\"can't find\",'nan',None]\n",
    "\n",
    "is_error_item += [\n",
    "    'on cargo order', 'test', 'barcode problem', 'mixed up', 'michel oops', 'printing smudges/thrown away', \n",
    "    'had been put aside', 'rusty thrown away', 'incorrectly made-thrown away.', 'Breakages', 'counted', \n",
    "    'Had been put aside.', 'returned', 'thrown away', 'mystery! Only ever imported 1800', 'Dagamed', \n",
    "    'code mix up? 84930', 'Printing smudges/thrown away', 'came coded as 20713', 'incorrect stock entry.',\n",
    "    \"thrown away-can't sell\",'Thrown away-rusty','Thrown away.','Given away','historic computer difference?....se',\n",
    "    'alan hodge cant mamage this section',\"thrown away-can't sell.\", 'label mix up','sold in set?','mix up with c'\n",
    "]\n",
    "\n",
    "is_special_item += [\n",
    "    'MIA', '?display?', 'Amazon Adjustment', 'Lighthouse Trading zero invc incorr', \n",
    "    'Dotcomgiftshop Gift Voucher £100.00', 'sold as set?', \n",
    "    'High Resolution Image', 'John Lewis','Bank Charges','Next Day Carriage'\n",
    "]\n",
    "\n",
    "is_modification_item += [\n",
    "    'Adjustment', 'OOPS ! adjustment', 'reverse 21/5/10 adjustment', 'reverse previous adjustment', \n",
    "    'marked as 23343', 'incorrectly put back into stock', 'Not rcvd in 10/11/2010 delivery', 'Display', \n",
    "    'Had been put aside.',  'sold as set by dotcom', 'add stock to allocate online orders', \n",
    "    'allocate stock for dotcom orders ta', 'for online retail orders', 'Marked as 23343'\n",
    "]\n",
    "\n",
    "unclassified_items = set(description_list) - set(is_error_item) - set(is_special_item) - set(is_modification_item)\n",
    "\n",
    "print(\"is_error_item:\", is_error_item)\n",
    "print(\"is_special_item:\", is_special_item)\n",
    "print(\"is_modification_item:\", is_modification_item)\n",
    "print(\"Unclassified items:\", unclassified_items)\n"
   ]
  },
  {
   "cell_type": "code",
   "execution_count": null,
   "metadata": {},
   "outputs": [],
   "source": [
    "items['is_unknown_item'] = items['item_description'].str.lower().isin(is_unknown_item)\n",
    "items['is_error_item'] = items['item_description'].str.lower().isin(is_error_item)\n",
    "items['is_special_item'] = items['item_description'].str.lower().isin(is_special_item)\n",
    "items['is_modification_item'] = items['item_description'].str.lower().isin(is_modification_item)\n",
    "\n",
    "items.head(10)"
   ]
  },
  {
   "cell_type": "markdown",
   "metadata": {},
   "source": [
    "### Set categories with Open AI LLM"
   ]
  },
  {
   "cell_type": "markdown",
   "metadata": {},
   "source": [
    "#### Set item family with categories"
   ]
  },
  {
   "cell_type": "code",
   "execution_count": null,
   "metadata": {},
   "outputs": [],
   "source": [
    "filtered_items = items[~items['is_operational_item'] & ~items['is_error_item'] & ~items['is_special_item'] & ~items['is_modification_item']& ~items['is_unknown_item']]\n",
    "grouped = filtered_items.groupby('item_family_id')['item_description'].apply(lambda x: ' '.join(x))\n",
    "\n",
    "def get_most_common_words(text):\n",
    "    words = text.split()  \n",
    "    word_counts = Counter(words)\n",
    "    max_count = max(word_counts.values(), default=0)\n",
    "    \n",
    "    most_common_words = [word for word, count in word_counts.items() if count == max_count]\n",
    "    return ' '.join(most_common_words) if most_common_words else None\n",
    "\n",
    "main_product_descriptions = grouped.apply(get_most_common_words).reset_index()\n",
    "main_product_descriptions.columns = ['item_family', 'item_family_description']\n",
    "\n",
    "\n",
    "main_product_descriptions.head(10)"
   ]
  },
  {
   "cell_type": "code",
   "execution_count": null,
   "metadata": {},
   "outputs": [],
   "source": [
    "categories = [\n",
    "    \"HOME DECOR\",\n",
    "    \"KITCHENWARE\",\n",
    "    \"TABLEWARE\",\n",
    "    \"GIFT ITEMS\",\n",
    "    \"FURNITURE\",\n",
    "    \"TOYS\",\n",
    "    \"CANDLES\",\n",
    "    \"JEWELRY\",\n",
    "    \"TEXTILES\",\n",
    "    \"GARDENING\",\n",
    "    \"BATHROOM\",\n",
    "    \"STATIONERY\",\n",
    "    \"BAGS\",\n",
    "    \"LIGHTING\",\n",
    "    \"CRAFTS\",\n",
    "    \"HOLIDAY\",\n",
    "    \"OUTDOOR\",\n",
    "    \"TOOL & DIY\",\n",
    "    \"SPORTS\",\n",
    "    \"STORAGE\",\n",
    "    \"TRAVEL\",\n",
    "    \"BEAUTY\",\n",
    "    \"BOOKS\",\n",
    "    \"GAMES\",\n",
    "    \"ORGANIZERS\",\n",
    "    \"TABLE LINEN\",\n",
    "    \"CHILDREN\",\n",
    "    \"CERAMICS\",\n",
    "    \"CLOTHING\",\n",
    "    \"PLANTS & FLOWERS\",\n",
    "    \"OTHERS\"\n",
    "]"
   ]
  },
  {
   "cell_type": "markdown",
   "metadata": {},
   "source": [
    "#### LLM extraction"
   ]
  },
  {
   "cell_type": "code",
   "execution_count": null,
   "metadata": {},
   "outputs": [],
   "source": [
    "from openai import OpenAI\n",
    "\n",
    "import openai_setup\n",
    "\n",
    "# Create GPT Client\n",
    "def initChatGPTClient():\n",
    "    organization = openai_setup.conf['organization']\n",
    "    project = openai_setup.conf['project']\n",
    "    key = openai_setup.conf['key']\n",
    "\n",
    "    client = OpenAI(\n",
    "        api_key=key,\n",
    "        organization=organization,\n",
    "        project=project\n",
    "    )\n",
    "    return client\n",
    "\n",
    "def llm_extract_category(client, item):\n",
    "    completion = client.chat.completions.create(\n",
    "        model=\"gpt-4o-mini\",\n",
    "        messages=[\n",
    "            {\"role\": \"system\", \"content\": \"You are an expert classifier system that gives a category to each object from a commerce. Ansewer only with the category selected in uppercase. The possible categories:\" + str(categories)},\n",
    "            {\n",
    "                \"role\": \"user\",\n",
    "                \"content\": str(item)\n",
    "            }\n",
    "        ]\n",
    "    )\n",
    "    answer = completion.choices[0].message.content\n",
    "    return answer"
   ]
  },
  {
   "cell_type": "code",
   "execution_count": null,
   "metadata": {},
   "outputs": [],
   "source": [
    "client = initChatGPTClient()\n",
    "main_product_descriptions['category'] = main_product_descriptions['item_family_description'].apply(lambda item: llm_extract_category(client, item))\n",
    "display(main_product_descriptions)"
   ]
  },
  {
   "cell_type": "code",
   "execution_count": null,
   "metadata": {},
   "outputs": [],
   "source": [
    "display(main_product_descriptions)"
   ]
  },
  {
   "cell_type": "code",
   "execution_count": null,
   "metadata": {},
   "outputs": [],
   "source": [
    "main_product_descriptions.to_csv('../data/main_product_descriptions.csv', index=False)"
   ]
  },
  {
   "cell_type": "markdown",
   "metadata": {},
   "source": [
    "### Dash ideas"
   ]
  },
  {
   "cell_type": "markdown",
   "metadata": {},
   "source": [
    "- beneficio mes\n",
    "- beneficio año\n",
    "- mom\n",
    "- yoy\n",
    "\n",
    "- numero de compras\n",
    "- numero de clientes\n",
    "- beneficio total\n",
    "\n",
    "- por pais\n",
    "\n",
    "- por categoria de producto\n",
    "\n",
    "- numero de invoices realizados\n",
    "- numero de objetos comprados totals\n",
    "- devoluciones\n",
    "- flags especiales\n",
    "\n",
    "- tipos de clientes:\n",
    "    - gasto\n",
    "    - numero de invoices realizados\n",
    "    - numero de objetos comprados totals\n",
    "    - numero de objetos por compra\n",
    "    - numero de compras por mes\n",
    "    - numero de compras por año\n",
    "    - devoluciones\n",
    "    - flags especiales\n",
    "\n",
    "    si lo consigo:\n",
    "    - categoria que mas compra"
   ]
  }
 ],
 "metadata": {
  "kernelspec": {
   "display_name": "e2s-env",
   "language": "python",
   "name": "python3"
  },
  "language_info": {
   "codemirror_mode": {
    "name": "ipython",
    "version": 3
   },
   "file_extension": ".py",
   "mimetype": "text/x-python",
   "name": "python",
   "nbconvert_exporter": "python",
   "pygments_lexer": "ipython3",
   "version": "3.9.20"
  }
 },
 "nbformat": 4,
 "nbformat_minor": 2
}
